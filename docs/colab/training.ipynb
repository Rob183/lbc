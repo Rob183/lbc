{
  "nbformat": 4,
  "nbformat_minor": 0,
  "metadata": {
    "colab": {
      "name": "training.ipynb",
      "provenance": [],
      "toc_visible": true
    },
    "kernelspec": {
      "name": "python3",
      "display_name": "Python 3"
    }
  },
  "cells": [
    {
      "cell_type": "markdown",
      "metadata": {
        "id": "1i8uawh4ncuq"
      },
      "source": [
        "# Training und Anwendung eines YoloV4-Detektors\n",
        "\n",
        "Dieses Tutorial basiert auf https://github.com/theAIGuysCode/YOLOv4-Cloud-Tutorial/blob/master/YOLOv4_Training_Tutorial.ipynb und wurde von uns gekürzt sowie auf deutsch übersetzt."
      ]
    },
    {
      "cell_type": "markdown",
      "metadata": {
        "id": "B121xuciXmNi"
      },
      "source": [
        "# Schritt 1: Hardware-Beschleunigung aktivieren"
      ]
    },
    {
      "cell_type": "markdown",
      "metadata": {
        "id": "6A-rrfd6nwcz"
      },
      "source": [
        "\n",
        "Google Colaboratory unterstützt die Verwendung von Google eigenen GPUs wie der NVIDIA Tesla K80. Dies ermöglicht ein schnelleres Training sowie schnellere Detektion im Vergleich zur alleinigen Nutzung der CPU.\n",
        "\n",
        "Um die GPU-Unterstuützung zu aktivieren: Edit/Bearbeiten -> Notebook Settings/Notebook Einstellungen und dort den Hardware Accelerator/Hardware Beschleuniger auf GPU einstellen.\n"
      ]
    },
    {
      "cell_type": "markdown",
      "metadata": {
        "id": "nka5hp_3XeFu"
      },
      "source": [
        "# Schritt 2: Klonen von Darknet"
      ]
    },
    {
      "cell_type": "code",
      "metadata": {
        "id": "IEhO9-6vnJQ5"
      },
      "source": [
        "!git clone https://github.com/AlexeyAB/darknet"
      ],
      "execution_count": null,
      "outputs": []
    },
    {
      "cell_type": "code",
      "metadata": {
        "id": "uAwTimnOpXl0"
      },
      "source": [
        "# Aktivieren von CUDA, GPU und OpenCV\n",
        "%cd darknet\n",
        "!sed -i 's/OPENCV=0/OPENCV=1/' Makefile\n",
        "!sed -i 's/GPU=0/GPU=1/' Makefile\n",
        "!sed -i 's/CUDNN=0/CUDNN=1/' Makefile\n",
        "!sed -i 's/CUDNN_HALF=0/CUDNN_HALF=1/' Makefile"
      ],
      "execution_count": null,
      "outputs": []
    },
    {
      "cell_type": "code",
      "metadata": {
        "id": "ixqL2O4mpgCi"
      },
      "source": [
        "# Verifizieren, dass CUDA aktiviert ist\n",
        "!/usr/local/cuda/bin/nvcc --version"
      ],
      "execution_count": null,
      "outputs": []
    },
    {
      "cell_type": "code",
      "metadata": {
        "id": "lw7SEZyOpmCB"
      },
      "source": [
        "# make Befehl für Darknet, Warnungen können hierbei ignoriert werden\n",
        "!make"
      ],
      "execution_count": null,
      "outputs": []
    },
    {
      "cell_type": "markdown",
      "metadata": {
        "id": "w1XXqaNop6mT"
      },
      "source": [
        "# Schritt 3 (optional)\n",
        "\n",
        "Im GitHub Repository von AlexeyAB findet sich bereits ein vortrainiertes Modell mit dem über 80 Klassen erkannt werden. Wir können das hier nutzen, um zu verifizieren, dass Darknet ordnungsgemäß funktioniert."
      ]
    },
    {
      "cell_type": "code",
      "metadata": {
        "id": "3KKPS-gFqUom"
      },
      "source": [
        "!wget https://github.com/AlexeyAB/darknet/releases/download/darknet_yolo_v3_optimal/yolov4.weights"
      ],
      "execution_count": null,
      "outputs": []
    },
    {
      "cell_type": "markdown",
      "metadata": {
        "id": "PWPzdzsfqXqn"
      },
      "source": [
        "Damit innerhalb von Google Colaboratory Bilder (und deren Overlays) angezeigt werden können, muss man noch eine Hilfsfunktion definieren."
      ]
    },
    {
      "cell_type": "code",
      "metadata": {
        "id": "vVrfsdclq6Mx"
      },
      "source": [
        "def imShow(path):\n",
        "  import cv2\n",
        "  import matplotlib.pyplot as plt\n",
        "  %matplotlib inline\n",
        "\n",
        "  image = cv2.imread(path)\n",
        "  height, width = image.shape[:2]\n",
        "  resized_image = cv2.resize(image,(3*width, 3*height), interpolation = cv2.INTER_CUBIC)\n",
        "\n",
        "  fig = plt.gcf()\n",
        "  fig.set_size_inches(18, 10)\n",
        "  plt.axis(\"off\")\n",
        "  plt.imshow(cv2.cvtColor(resized_image, cv2.COLOR_BGR2RGB))\n",
        "  plt.show()"
      ],
      "execution_count": null,
      "outputs": []
    },
    {
      "cell_type": "markdown",
      "metadata": {
        "id": "tAPlUmderFZe"
      },
      "source": [
        "Darknet beinhaltet einige Bilder zum Testen. Diese finden sich unter `darknet/data/`"
      ]
    },
    {
      "cell_type": "code",
      "metadata": {
        "id": "mbFUFTD4rTwu"
      },
      "source": [
        "# testet Darknet auf einem Beispielbild\n",
        "!./darknet detector test cfg/coco.data cfg/yolov4.cfg yolov4.weights data/person.jpg"
      ],
      "execution_count": null,
      "outputs": []
    },
    {
      "cell_type": "markdown",
      "metadata": {
        "id": "Ozp5PnxwrYLO"
      },
      "source": [
        "Nun kann man die vordefinierte Funktion für die Ausgabe nutzen:"
      ]
    },
    {
      "cell_type": "code",
      "metadata": {
        "id": "NEaKH2cwrkvA"
      },
      "source": [
        "imShow('predictions.jpg')"
      ],
      "execution_count": null,
      "outputs": []
    },
    {
      "cell_type": "markdown",
      "metadata": {
        "id": "R8DWOTnNr1lm"
      },
      "source": [
        "# Schritt 4: Google Drive verbinden\n",
        "\n",
        "Es gibt verschiedene Möglichkeiten, die erforderlichen Dateien (Bilder, Config-Dateien, Label-Dateien, etc.) in Colabs zu importieren. Wir haben hier die Anbindung zu Google Drive genutzt, da dies uns u.A. eine automatische Backup-Funktionalität liefert."
      ]
    },
    {
      "cell_type": "code",
      "metadata": {
        "id": "fXcqRCNdMiNf"
      },
      "source": [
        "# Dieser Code bindet Google Drive an Colabs an. Hierfür wird ein Bestätigungscode angefordert.\n",
        "%cd ..\n",
        "from google.colab import drive\n",
        "drive.mount('/content/gdrive')"
      ],
      "execution_count": null,
      "outputs": []
    },
    {
      "cell_type": "code",
      "metadata": {
        "id": "JHDXV8h1NP98"
      },
      "source": [
        "# erstellt einen symbolischen Link zum Zugriff auf die Daten in Google Drive\n",
        "!ln -s /content/gdrive/My\\ Drive/ /mydrive\n",
        "!ls /mydrive"
      ],
      "execution_count": null,
      "outputs": []
    },
    {
      "cell_type": "markdown",
      "metadata": {
        "id": "T1UDJFU9NX4l"
      },
      "source": [
        "Testen der Konfiguration (optional):\n",
        "Hier einfach den entsprechenden Path eintragen"
      ]
    },
    {
      "cell_type": "code",
      "metadata": {
        "id": "1UN3Xm7yNez_"
      },
      "source": [
        "%cd darknet\n",
        "!./darknet detector test cfg/coco.data cfg/yolov4.cfg yolov4.weights /mydrive/../image.jpg\n",
        "imShow('predictions.jpg')"
      ],
      "execution_count": null,
      "outputs": []
    },
    {
      "cell_type": "markdown",
      "metadata": {
        "id": "lAfYbHj1N6Uc"
      },
      "source": [
        "# Schritt 5: Ordnerstruktur und Konfiguration\n",
        "Im Root-Verzeichnis von Google Drive haben wir einen Ordner \"yolov4\" angelegt. Dieser enthält den Unterordner \"backup\", in dem später die Zwischenergebnisse abgelegt werden.\n",
        "\n"
      ]
    },
    {
      "cell_type": "code",
      "metadata": {
        "id": "7TdcVPx8O69-"
      },
      "source": [
        "# hiermit kann man sich den Inhalt des Ordners zur Kontrolle anzeigen lassen\n",
        "!ls /mydrive/yolov4"
      ],
      "execution_count": null,
      "outputs": []
    },
    {
      "cell_type": "markdown",
      "metadata": {
        "id": "YZvExk7ePwbU"
      },
      "source": [
        "## Schritt 5.1: Bildmaterial"
      ]
    },
    {
      "cell_type": "code",
      "metadata": {
        "id": "FIn3vP1PPGZm"
      },
      "source": [
        "# nun kopieren wir die zip-Archive der Trainigs- und Testbilder von Google Drive in Colabs\n",
        "!cp /mydrive/yolov4/food_train.zip ../\n",
        "!cp /mydrive/yolov4/food_validate.zip ../"
      ],
      "execution_count": null,
      "outputs": []
    },
    {
      "cell_type": "code",
      "metadata": {
        "id": "e0K7AbIaPQSY"
      },
      "source": [
        "# ... und entpacken diese anschließend (je nach Anzahl der Bilder können kopieren und entpacken einige Zeit in Anspruch nehmen)\n",
        "!unzip ../food_train.zip -d data/\n",
        "!unzip ../food_validate.zip -d data/"
      ],
      "execution_count": null,
      "outputs": []
    },
    {
      "cell_type": "markdown",
      "metadata": {
        "id": "BwaLIXpvP1gJ"
      },
      "source": [
        "## Schritt 5.2 Cfg-Datei\n",
        "In dieser Datei finden einige Konfigurationen zum Training statt. Wir haben uns dabei am Tutorial orientiert."
      ]
    },
    {
      "cell_type": "code",
      "metadata": {
        "id": "Z9bSH1yxQJ7d"
      },
      "source": [
        "# die Template Datei wird in Drive kopiert und kann dort bearbeitet werden. Entsprechende Dateinamen bitte ändern.\n",
        "!cp cfg/yolov4-custom.cfg /mydrive/yolov4/yolov4-food.cfg"
      ],
      "execution_count": null,
      "outputs": []
    },
    {
      "cell_type": "markdown",
      "metadata": {
        "id": "Rn8bVrNgQVer"
      },
      "source": [
        "Gemäß des Tutorials ergeben sich folgende Konfiguration:\n",
        "\n",
        "*   batch = 64\n",
        "*   subdivision = 16 (alternativ 32)\n",
        "*   width = 416\n",
        "*   height = 416 (für Höhe und Breite können Vielfache von 32 genutzt werden. Je höher der Wert, desto akkurater das Ergebnis, aber desto langsamer das Training)\n",
        "*   max_batches = (Anzahl d. Klassen) * 2000 (mindestens aber 6000)\n",
        "*   steps = (0.8 * max_batches), (0.9 * max_batches)\n",
        "*   filters (Anzahl d. Klassen + 5) * 3\n",
        "*   **Beachte: Die Werte müssen u.U. mehrfach gesetzt werden.**\n",
        "*   *Optional: random = 1 zu random = 0, falls Speicherprobleme auftreten oder das Training ungewöhnlich lange dauert*\n"
      ]
    },
    {
      "cell_type": "code",
      "metadata": {
        "id": "2nyRgIdwYRbC"
      },
      "source": [
        "# Upload der modifizieren Datei aus Drive\n",
        "!cp /mydrive/yolov4/[...].cfg ./cfg"
      ],
      "execution_count": null,
      "outputs": []
    },
    {
      "cell_type": "markdown",
      "metadata": {
        "id": "D4Q4sz8YSadF"
      },
      "source": [
        "## Schritt 5.3 Names- und Data-Datei\n",
        "Erstelle eine .data Datei mit folgendem Inhalt:\n",
        "\n",
        "```\n",
        "classes = (number of classes)\n",
        "train = data/train.txt\n",
        "valid = data/test.txt\n",
        "names = data/[...].names \n",
        "backup = /mydrive/yolov4/backup\n",
        "```\n",
        "\n"
      ]
    },
    {
      "cell_type": "markdown",
      "metadata": {
        "id": "JvOSHifnTKLI"
      },
      "source": [
        "Die .names Datei ergibt sich aus der classes.txt Datei, die wird beim Labeln erstellt haben. Hierfür also einfach eine neue Datei erstellen, die Inhalte wieder zeilenweise einfügen und mit der Dateiendung .names abspeichern."
      ]
    },
    {
      "cell_type": "code",
      "metadata": {
        "id": "Kic3-hN-TbQl"
      },
      "source": [
        "# nun beide Dateien importieren\n",
        "!cp /mydrive/yolov4/food.names ./data\n",
        "!cp /mydrive/yolov4/food.data  ./data"
      ],
      "execution_count": null,
      "outputs": []
    },
    {
      "cell_type": "markdown",
      "metadata": {
        "id": "biJgTEF3TxFS"
      },
      "source": [
        "## Schritt 5.4: train.txt und test.txt generieren\n",
        "\n",
        "Die erforderlichen Skripte können hier bezogen werden: https://github.com/theAIGuysCode/YOLOv4-Cloud-Tutorial.\n",
        "Die Dateien \"generate_train.py\" und \"generate_test.py\" dann einfach in den yolov4-Ordner kopieren."
      ]
    },
    {
      "cell_type": "code",
      "metadata": {
        "id": "Xcywr05RUMjw"
      },
      "source": [
        "# Skripte ausführen\n",
        "!python generate_train.py\n",
        "!python generate_test.py"
      ],
      "execution_count": null,
      "outputs": []
    },
    {
      "cell_type": "markdown",
      "metadata": {
        "id": "sjY-6mN0USAN"
      },
      "source": [
        "Im data/ Ordner von Colabs sollten nun die zwei Dateien \"train.txt\" und \"test.txt\" zu finden sein."
      ]
    },
    {
      "cell_type": "markdown",
      "metadata": {
        "id": "t6dd2awyUgei"
      },
      "source": [
        "# Schritt 6: Training"
      ]
    },
    {
      "cell_type": "markdown",
      "metadata": {
        "id": "MdAvEo1aYd4Y"
      },
      "source": [
        "## Schritt 6.1: Download von vortrainierten Gewichten für die Convolutional Layer (optional)\n",
        "Diese Gewichte müssen nicht genutzt werden, erlauben aber ein effektiveres und schnelleres Training."
      ]
    },
    {
      "cell_type": "code",
      "metadata": {
        "id": "ML3qy-_PU9-P"
      },
      "source": [
        "!wget https://github.com/AlexeyAB/darknet/releases/download/darknet_yolo_v3_optimal/yolov4.conv.137"
      ],
      "execution_count": null,
      "outputs": []
    },
    {
      "cell_type": "markdown",
      "metadata": {
        "id": "HTGL4aldU_9J"
      },
      "source": [
        "## Schritt 6.2: Custom Detector"
      ]
    },
    {
      "cell_type": "code",
      "metadata": {
        "id": "eRi2OSM_VI5t"
      },
      "source": [
        "# hier nun die Namen der .data und .cfg Dateien eintragen. %%capture auskommentieren, wenn Speicherprobleme auftreten\n",
        "#%%capture\n",
        "!./darknet detector train data/[...].data cfg/[...].cfg yolov4.conv.137 -dont_show -map"
      ],
      "execution_count": null,
      "outputs": []
    },
    {
      "cell_type": "markdown",
      "metadata": {
        "id": "DVqrc0MWVkYE"
      },
      "source": [
        "Die Zwischenergebnisse des Trainings werden im backup Ordner abgelegt. Das erlaubt, das Training zu einem späteren Zeitpunkt von diesem Ergebnis aus fortzusetzen:"
      ]
    },
    {
      "cell_type": "code",
      "metadata": {
        "id": "qAomwn3pVxrH"
      },
      "source": [
        "!./darknet detector train data/[...].data cfg/[...].cfg /mydrive/yolov4/backup/[...].weights -dont_show"
      ],
      "execution_count": null,
      "outputs": []
    },
    {
      "cell_type": "markdown",
      "metadata": {
        "id": "m9mC5_HCV-aQ"
      },
      "source": [
        "Man kann sich eine Übersicht über die Average Precision in Abhängigkeit der Anzahl der Iterationen anschauen:"
      ]
    },
    {
      "cell_type": "code",
      "metadata": {
        "id": "ZwGxlk-IWJ1F"
      },
      "source": [
        "imShow('chart.png')"
      ],
      "execution_count": null,
      "outputs": []
    },
    {
      "cell_type": "markdown",
      "metadata": {
        "id": "v6DV-XkZWM6F"
      },
      "source": [
        "Um die Average Precision einzeln aufzuschlüssen, kann man folgenden Befehl verwenden:"
      ]
    },
    {
      "cell_type": "code",
      "metadata": {
        "id": "R2P8jtFgWT5_"
      },
      "source": [
        "!./darknet detector map data/[...].data cfg/[...].cfg /mydrive/yolov4/backup/[...].weights"
      ],
      "execution_count": null,
      "outputs": []
    },
    {
      "cell_type": "markdown",
      "metadata": {
        "id": "zOOr0CuaWdQa"
      },
      "source": [
        "Um das trainierte Model nun mit einem fremden Bild zu testen, kann man folgenden machen:"
      ]
    },
    {
      "cell_type": "code",
      "metadata": {
        "id": "QKr0ctNAWnJI"
      },
      "source": [
        "# Test Modus für cfg-Datei aktivieren\n",
        "%cd cfg\n",
        "!sed -i 's/batch=64/batch=1/' [...].cfg\n",
        "!sed -i 's/subdivisions=16/subdivisions=1/' [...].cfg\n",
        "%cd .."
      ],
      "execution_count": null,
      "outputs": []
    },
    {
      "cell_type": "code",
      "metadata": {
        "id": "tR0nBhToWwGb"
      },
      "source": [
        "!./darknet detector test data/[...].data cfg/[...].cfg /mydrive/yolov4/backup/[...].weights /mydrive/images/[...].jpg -thresh 0.3\n",
        "imShow('predictions.jpg')"
      ],
      "execution_count": null,
      "outputs": []
    },
    {
      "cell_type": "markdown",
      "metadata": {
        "id": "RCupzJYlW-qc"
      },
      "source": [
        "# Geschafft\n",
        "\n",
        "Es wurde ein neuer yolov4-Object-Detector trainiert. Dieser kann nun z.B. in ein Backend eingebunden werden."
      ]
    }
  ]
}